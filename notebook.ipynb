{
 "cells": [
  {
   "cell_type": "code",
   "execution_count": 2,
   "id": "07fe7108-3f46-4bb6-a08a-866ec35476bf",
   "metadata": {
    "collapsed": true,
    "executionCancelledAt": null,
    "executionTime": 67,
    "jupyter": {
     "outputs_hidden": true,
     "source_hidden": false
    },
    "lastExecutedAt": 1757525160553,
    "lastExecutedByKernel": "321f22e4-34ba-4f46-8d76-0506ef4e9d62",
    "lastScheduledRunId": null,
    "lastSuccessfullyExecutedCode": "import pandas as pd \nimport numpy as np\n\ndates = pd.date_range(\"2024-01-01\", periods=6,freq='D')\ntickers = [\"AAPL\",\"MSFT\",\"NVDA\"]\ndf = pd.MultiIndex.from_product([dates,tickers], names=['date','ticker']).to_frame(index=False)\nsector_map = {\"AAPL\":\"Tech\", \"MSFT\":\"Tech\", \"NVDA\":\"Semis\"}\ndf['sector'] = df['ticker'].map(sector_map)\n\nbase = {\"AAPL\":180, \"MSFT\":400, \"NVDA\":500}\ndf['day_num'] = (df['date'] - df['date'].min()).dt.days\ndf['close'] = df.apply(lambda r : base[r['ticker']] + 2*r['day_num'] ,axis=1).astype(float)\n\ndf.loc[(df['ticker'] == 'AAPL') & (df['day_num'] == 3), 'close' ] = np.nan\ndf.loc[(df['ticker'] == 'MSFT') & (df['day_num'] == 4), 'close' ] = np.nan\nrng = np.random.default_rng(0)\ndf[\"volume\"]  = (rng.integers(100, 500, len(df)) * (1 + df[\"day_num\"]*0.1)).round().astype(int)\n\ndf = df.sort_values(['date','ticker']).reset_index(drop=True)\nprint(df)\n\ntotal_per_sector = df.groupby('sector')['volume'].sum()\nmulti_agg =df.groupby(['date','sector'], as_index=False).agg(\n    rows=('close','size'),\n    avg_close=('volume','mean')\n)\n\ndf['mean_close'] = df.groupby('date')['close'].transform('mean')\ndf['normalized_close'] = df['close'] / df['mean_close']\n\ngrp = df.groupby('ticker')['close']\ndf['z-score'] = (df['close'] -  grp.transform('mean')) / grp.transform('std')\n\ndf['rolling_dev'] = df.groupby('ticker')['close'].transform(lambda s: s.rolling(window=3,min_periods=1).std())\n\ndf.sort_values('close',ascending=True).groupby('date').head(1)\n\n# print(df[['ticker','z-score','date','rolling_dev','close']].head(9))\ndef _summary(g):\n    return pd.DataFrame({\n        \"first_date\":[g[\"date\"].min()],\n        \"n_days\":[g[\"date\"].nunique()],\n        \"close_min\":[g[\"close\"].min()],\n        \"close_max\":[g[\"close\"].max()]\n    })\n\nper_sec_summ = df.groupby('sector').apply(_summary).reset_index(level=0)\n\ndf_idx = df.set_index(['date','ticker']).sort_index()\ndf_msft_closes = df_idx.xs(\"MSFT\", level='ticker')['close']\ndf_idx['pct_change'] = df_idx.groupby(level='ticker')['close'].pct_change()\ndf_idx['roll_5_mean'] = df_idx.groupby(level='ticker')['close'\n].transform(lambda d: d.rolling( window=5, min_periods=1 ).mean())\nprint(df_idx[[\"close\",\"pct_change\",\"roll_5_mean\"]].head(9))\n\ndf_filtered = df_idx.groupby(level='ticker').filter(lambda g: g['close'].count() >= 6)\n\nprint(df_filtered.groupby(level='ticker')['close'].count())\n\ndf_dropped_sectors = df_idx.groupby('sector').filter(lambda d: d['volume'].mean() > 1500)\nprint(df_dropped_sectors.groupby('sector')['volume'].mean())",
    "outputsMetadata": {
     "0": {
      "height": 616,
      "type": "stream"
     }
    }
   },
   "outputs": [
    {
     "name": "stdout",
     "output_type": "stream",
     "text": [
      "         date ticker sector  day_num  close  volume\n",
      "0  2024-01-01   AAPL   Tech        0  180.0     440\n",
      "1  2024-01-01   MSFT   Tech        0  400.0     354\n",
      "2  2024-01-01   NVDA  Semis        0  500.0     304\n",
      "3  2024-01-02   AAPL   Tech        1  182.0     228\n",
      "4  2024-01-02   MSFT   Tech        1  402.0     245\n",
      "5  2024-01-02   NVDA  Semis        1  502.0     128\n",
      "6  2024-01-03   AAPL   Tech        2  184.0     156\n",
      "7  2024-01-03   MSFT   Tech        2  404.0     127\n",
      "8  2024-01-03   NVDA  Semis        2  504.0     204\n",
      "9  2024-01-04   AAPL   Tech        3    NaN     552\n",
      "10 2024-01-04   MSFT   Tech        3  406.0     467\n",
      "11 2024-01-04   NVDA  Semis        3  506.0     604\n",
      "12 2024-01-05   AAPL   Tech        4  188.0     421\n",
      "13 2024-01-05   MSFT   Tech        4    NaN     479\n",
      "14 2024-01-05   NVDA  Semis        4  508.0     683\n",
      "15 2024-01-06   AAPL   Tech        5  190.0     586\n",
      "16 2024-01-06   MSFT   Tech        5  410.0     528\n",
      "17 2024-01-06   NVDA  Semis        5  510.0     476\n",
      "                   close  pct_change  roll_5_mean\n",
      "date       ticker                                \n",
      "2024-01-01 AAPL    180.0         NaN        180.0\n",
      "           MSFT    400.0         NaN        400.0\n",
      "           NVDA    500.0         NaN        500.0\n",
      "2024-01-02 AAPL    182.0    0.011111        181.0\n",
      "           MSFT    402.0    0.005000        401.0\n",
      "           NVDA    502.0    0.004000        501.0\n",
      "2024-01-03 AAPL    184.0    0.010989        182.0\n",
      "           MSFT    404.0    0.004975        402.0\n",
      "           NVDA    504.0    0.003984        502.0\n",
      "ticker\n",
      "NVDA    6\n",
      "Name: close, dtype: int64\n",
      "Series([], Name: volume, dtype: float64)\n"
     ]
    }
   ],
   "source": [
    "import pandas as pd \n",
    "import numpy as np\n",
    "\n",
    "dates = pd.date_range(\"2024-01-01\", periods=6,freq='D')\n",
    "tickers = [\"AAPL\",\"MSFT\",\"NVDA\"]\n",
    "df = pd.MultiIndex.from_product([dates,tickers], names=['date','ticker']).to_frame(index=False)\n",
    "sector_map = {\"AAPL\":\"Tech\", \"MSFT\":\"Tech\", \"NVDA\":\"Semis\"}\n",
    "df['sector'] = df['ticker'].map(sector_map)\n",
    "\n",
    "base = {\"AAPL\":180, \"MSFT\":400, \"NVDA\":500}\n",
    "df['day_num'] = (df['date'] - df['date'].min()).dt.days\n",
    "df['close'] = df.apply(lambda r : base[r['ticker']] + 2*r['day_num'] ,axis=1).astype(float)\n",
    "\n",
    "df.loc[(df['ticker'] == 'AAPL') & (df['day_num'] == 3), 'close' ] = np.nan\n",
    "df.loc[(df['ticker'] == 'MSFT') & (df['day_num'] == 4), 'close' ] = np.nan\n",
    "rng = np.random.default_rng(0)\n",
    "df[\"volume\"]  = (rng.integers(100, 500, len(df)) * (1 + df[\"day_num\"]*0.1)).round().astype(int)\n",
    "\n",
    "df = df.sort_values(['date','ticker']).reset_index(drop=True)\n",
    "print(df)\n",
    "\n",
    "total_per_sector = df.groupby('sector')['volume'].sum()\n",
    "multi_agg =df.groupby(['date','sector'], as_index=False).agg(\n",
    "    rows=('close','size'),\n",
    "    avg_close=('volume','mean')\n",
    ")\n",
    "\n",
    "df['mean_close'] = df.groupby('date')['close'].transform('mean')\n",
    "df['normalized_close'] = df['close'] / df['mean_close']\n",
    "\n",
    "grp = df.groupby('ticker')['close']\n",
    "df['z-score'] = (df['close'] -  grp.transform('mean')) / grp.transform('std')\n",
    "\n",
    "df['rolling_dev'] = df.groupby('ticker')['close'].transform(lambda s: s.rolling(window=3,min_periods=1).std())\n",
    "\n",
    "df.sort_values('close',ascending=True).groupby('date').head(1)\n",
    "\n",
    "# print(df[['ticker','z-score','date','rolling_dev','close']].head(9))\n",
    "def _summary(g):\n",
    "    return pd.DataFrame({\n",
    "        \"first_date\":[g[\"date\"].min()],\n",
    "        \"n_days\":[g[\"date\"].nunique()],\n",
    "        \"close_min\":[g[\"close\"].min()],\n",
    "        \"close_max\":[g[\"close\"].max()]\n",
    "    })\n",
    "\n",
    "per_sec_summ = df.groupby('sector').apply(_summary).reset_index(level=0)\n",
    "\n",
    "df_idx = df.set_index(['date','ticker']).sort_index()\n",
    "df_msft_closes = df_idx.xs(\"MSFT\", level='ticker')['close']\n",
    "df_idx['pct_change'] = df_idx.groupby(level='ticker')['close'].pct_change()\n",
    "df_idx['roll_5_mean'] = df_idx.groupby(level='ticker')['close'\n",
    "].transform(lambda d: d.rolling( window=5, min_periods=1 ).mean())\n",
    "print(df_idx[[\"close\",\"pct_change\",\"roll_5_mean\"]].head(9))\n",
    "\n",
    "df_filtered = df_idx.groupby(level='ticker').filter(lambda g: g['close'].count() >= 6)\n",
    "\n",
    "print(df_filtered.groupby(level='ticker')['close'].count())\n",
    "\n",
    "df_dropped_sectors = df_idx.groupby('sector').filter(lambda d: d['volume'].mean() > 1500)\n",
    "print(df_dropped_sectors.groupby('sector')['volume'].mean())"
   ]
  },
  {
   "cell_type": "code",
   "execution_count": null,
   "id": "4f22b8f8-a3ca-4a4b-b3d5-1137bc8cfe81",
   "metadata": {
    "collapsed": true,
    "executionCancelledAt": null,
    "executionTime": null,
    "jupyter": {
     "outputs_hidden": true,
     "source_hidden": false
    },
    "lastExecutedAt": null,
    "lastExecutedByKernel": null,
    "lastScheduledRunId": null,
    "lastSuccessfullyExecutedCode": null,
    "outputsMetadata": {
     "0": {
      "height": 416,
      "type": "stream"
     },
     "1": {
      "height": 550,
      "tableState": {},
      "type": "dataFrame"
     }
    }
   },
   "outputs": [
    {
     "name": "stdout",
     "output_type": "stream",
     "text": [
      "0     180.0\n",
      "1     400.0\n",
      "2     500.0\n",
      "3     182.0\n",
      "4     402.0\n",
      "5     502.0\n",
      "6     184.0\n",
      "7     404.0\n",
      "8     504.0\n",
      "10    406.0\n",
      "11    506.0\n",
      "9       NaN\n",
      "12    188.0\n",
      "14    508.0\n",
      "13      NaN\n",
      "15    190.0\n",
      "16    410.0\n",
      "17    510.0\n",
      "Name: close, dtype: float64\n"
     ]
    },
    {
     "data": {
      "application/com.datacamp.data-table.v2+json": {
       "table": {
        "data": {
         "first_date": [
          "2024-01-01T00:00:00.000",
          "2024-01-01T00:00:00.000"
         ],
         "last_days": [
          "2024-01-06T00:00:00.000",
          "2024-01-06T00:00:00.000"
         ],
         "level_1": [
          0,
          0
         ],
         "max_close_ticker": [
          17,
          16
         ],
         "sector": [
          "Semis",
          "Tech"
         ]
        },
        "schema": {
         "fields": [
          {
           "name": "sector",
           "type": "string"
          },
          {
           "name": "level_1",
           "type": "integer"
          },
          {
           "name": "first_date",
           "type": "datetime"
          },
          {
           "name": "last_days",
           "type": "datetime"
          },
          {
           "name": "max_close_ticker",
           "type": "integer"
          }
         ],
         "pandas_version": "1.4.0",
         "primaryKey": [
          "sector",
          "level_1"
         ]
        }
       },
       "total_rows": 2,
       "truncation_type": null
      },
      "text/html": [
       "<div>\n",
       "<style scoped>\n",
       "    .dataframe tbody tr th:only-of-type {\n",
       "        vertical-align: middle;\n",
       "    }\n",
       "\n",
       "    .dataframe tbody tr th {\n",
       "        vertical-align: top;\n",
       "    }\n",
       "\n",
       "    .dataframe thead th {\n",
       "        text-align: right;\n",
       "    }\n",
       "</style>\n",
       "<table border=\"1\" class=\"dataframe\">\n",
       "  <thead>\n",
       "    <tr style=\"text-align: right;\">\n",
       "      <th></th>\n",
       "      <th></th>\n",
       "      <th>first_date</th>\n",
       "      <th>last_days</th>\n",
       "      <th>max_close_ticker</th>\n",
       "    </tr>\n",
       "    <tr>\n",
       "      <th>sector</th>\n",
       "      <th></th>\n",
       "      <th></th>\n",
       "      <th></th>\n",
       "      <th></th>\n",
       "    </tr>\n",
       "  </thead>\n",
       "  <tbody>\n",
       "    <tr>\n",
       "      <th>Semis</th>\n",
       "      <th>0</th>\n",
       "      <td>2024-01-01</td>\n",
       "      <td>2024-01-06</td>\n",
       "      <td>17</td>\n",
       "    </tr>\n",
       "    <tr>\n",
       "      <th>Tech</th>\n",
       "      <th>0</th>\n",
       "      <td>2024-01-01</td>\n",
       "      <td>2024-01-06</td>\n",
       "      <td>16</td>\n",
       "    </tr>\n",
       "  </tbody>\n",
       "</table>\n",
       "</div>"
      ],
      "text/plain": [
       "         first_date  last_days  max_close_ticker\n",
       "sector                                          \n",
       "Semis  0 2024-01-01 2024-01-06                17\n",
       "Tech   0 2024-01-01 2024-01-06                16"
      ]
     },
     "execution_count": 10,
     "metadata": {
      "application/com.datacamp.data-table.v2+json": {
       "status": "success"
      }
     },
     "output_type": "execute_result"
    }
   ],
   "source": [
    "import pandas as pd\n",
    "import numpy as np\n",
    "\n",
    "date = pd.date_range('2024-01-01', periods=6, freq='D')\n",
    "tickers = [\"AAPL\",\"MSFT\",\"NVDA\"]\n",
    "\n",
    "df = pd.MultiIndex.from_product([date,tickers], names=['date','ticker']).to_frame(index=False)\n",
    "sector_map = {\"AAPL\":\"Tech\", \"MSFT\":\"Tech\", \"NVDA\":\"Semis\"}\n",
    "\n",
    "df['sector'] = df['ticker'].map(sector_map)\n",
    "\n",
    "# Synthetic close prices\n",
    "base = {\"AAPL\":180, \"MSFT\":400, \"NVDA\":500}\n",
    "df['day_num'] = (df['date'] - df['date'].min()).dt.days\n",
    "df['close'] = df.apply(lambda r: base[r['ticker']] + 2* r['day_num'],axis=1)\n",
    "\n",
    "# Insert missing closes\n",
    "df.loc[(df['ticker'] == 'AAPL') & (df['day_num'] == 3), 'close'] = np.nan\n",
    "df.loc[(df['ticker'] == 'MSFT') & (df['day_num'] == 4), 'close'] = np.nan\n",
    "\n",
    "# Synthetic volume\n",
    "rng = np.random.default_rng(0)\n",
    "df[\"volume\"]  = (rng.integers(100, 500, len(df)) * (1 + df[\"day_num\"]*0.1)).round().astype(int)\n",
    "\n",
    "df = df.sort_values(['date','ticker']).reset_index(drop=True)\n",
    "\n",
    "# print(df.isna().sum())\n",
    "# print(df.groupby('ticker')['close'].mean())\n",
    "# print(df['volume'].sum())\n",
    "\n",
    "df['close_filled'] = df.groupby('ticker')['close'].ffill()\n",
    "df['close_backfilled'] = df.groupby('ticker')['close'].bfill()\n",
    "# print(df[['date','ticker','close','close_filled','close_backfilled']])\n",
    "# print(df[df['close'].isna()])\n",
    "\n",
    "# Keep only Tech sector rows where volume is above the overall median, sorted by date then -volume\n",
    "mask = (df['sector'] == 'Tech') & (df['volume'] > df['volume'].median())\n",
    "subset = df[mask].sort_values(['date','volume'], ascending=[True,False])\n",
    "#Top-3 close per date (ties break by ticker).\n",
    "print(df.sort_values(['date','close','ticker']).groupby('date').head(3)['close'])\n",
    "#Lowest 2 volume per ticker.\n",
    "df.sort_values(['ticker','volume'], ascending=[True,False]).groupby('ticker').head(2)\n",
    "# Daily return per ticker\n",
    "df['daily_ret'] = df.groupby('ticker')['close'].pct_change()\n",
    "# Flag big_move if abs(ret) > ticker’s 75th percentile\n",
    "df['big_move'] = df['daily_ret'].abs() > df.groupby('ticker')['daily_ret'].transform(lambda x: x.abs().quantile(0.75))\n",
    "#Per-ticker close min, max, mean, std in one go.\n",
    "df.groupby('ticker')['close'].agg(['min','max','mean','std'])\n",
    "#Per-sector: rows = size(close), non_na = count(close), avg_close = mean(close), sum_vol = sum(volume)\n",
    "df.groupby('sector').agg(\n",
    "    rows=('close','size'),\n",
    "    non_na= ('close','count'),\n",
    "    avg_close=('close','mean'),\n",
    "    sum_vol=('volume','sum')\n",
    ")\n",
    "#Per (date, sector): volume sum, median, 90th pct\n",
    "#p90 = lambda s:s.quantile(0.9)\n",
    "df.groupby(['date','sector'])['volume'].agg(['sum','median',p90 ])\n",
    "#Which ticker has the highest average dollar_vol\n",
    "df['dollar_volume'] = df['volume'] * df['close']\n",
    "df.groupby('ticker')['dollar_volume'].agg('mean').idxmax()\n",
    "#Fraction of rows per sector, sorted descending.\n",
    "df.value_counts(normalize=True).sort_values(ascending=False)\n",
    "#Build top-1 per day by close. which ticker most often wins? show proportion.\n",
    "df['top-1c']=df.sort_values(['date','close'],ascending=False).groupby('date')['close'].head(1)\n",
    "df['top-1c'].value_counts(normalize=True)\n",
    "#Missing close AND volume in top quartile\n",
    "msk = (df['close'].isna() ) & (df['volume'] >= df['volume'].quantile(.75))\n",
    "\n",
    "#ret < 0 AND volume above its date’s median\n",
    "msk = (df['daily_ret'] < 0) & (df['volume'] > df.groupby('date')['volume'].transform(lambda s: s.median())) \n",
    "#print(df[msk])\n",
    "#For each date, z-score of close (cross-sectional : group by date, different entities at the same point in time)\n",
    "df['z-score-xsec'] = df.groupby('date')['close'].transform(lambda s: (s-s.mean())/ s.std())\n",
    "#For each ticker, z-score of ret (time-series)\n",
    "df['z-score-times'] = df.groupby('ticker')['daily_ret'].transform(lambda s: (s-s.mean())/s.std())\n",
    "#Per-sector custom summary DataFrame: first_date, last_date, max_close_ticker\n",
    "def summary(g):\n",
    "    return pd.DataFrame({\n",
    "        \"first_date\":[g[\"date\"].min()],\n",
    "        \"last_days\":[g[\"date\"].max()],\n",
    "        \"max_close_ticker\":[g[\"close\"].idxmax()]\n",
    "    })\n",
    "df.groupby('sector').apply(summary)\n",
    "#Per-ticker MA(5) and Vol(5) on close (moving avg and volatility)    \n",
    "grp= df.groupby('ticker')['close']\n",
    "grp.rolling(5).mean()\n",
    "grp.rolling(5).std()\n",
    "#Per-ticker expanding cumulative return from first close\n",
    "grp.pct_change().add(1).cumprod().sub(1)\n",
    "#Per-ticker EWMA(10) of close (EWMA = Exponentially Weighted Moving Average)\n"
   ]
  },
  {
   "cell_type": "code",
   "execution_count": null,
   "id": "2d7ce581-f6f8-488e-8098-1b37af90bc89",
   "metadata": {},
   "outputs": [],
   "source": [
    "###########################################################################################\n",
    "fundamentals = pd.DataFrame({\n",
    "    'ticker': ['AAPL','MSFT','NVDA'],\n",
    "    'PE_ratio': [28.5, 32.1, 45.0],\n",
    "    'MarketCap': [2.9e12, 3.2e12, 1.1e12]\n",
    "})\n",
    "# Now you can compute valuation metrics like daily volume as a percentage of market cap\n",
    "df = df.merge(fundamentals, on='ticker', how='left')\n",
    "# print(df.head(15))\n",
    "\n",
    "# print(df.query('volume > 300 and sector == \"Tech\"'))\n",
    "# print(df.eval('dollar_volume = close * volume',inplace=True))\n",
    "df['sector'] = df['sector'].astype('category')\n",
    "df_idx = df.set_index(['date','ticker']).sort_index()\n",
    "days_values = df_idx.xs(pd.Timestamp('2024-01-03'),level='date')\n",
    "# print(days_values)"
   ]
  }
 ],
 "metadata": {
  "colab": {
   "name": "Welcome to DataCamp Workspaces.ipynb",
   "provenance": []
  },
  "editor": "DataLab",
  "kernelspec": {
   "display_name": "Python 3 (User venv)",
   "language": "python",
   "name": "python3"
  },
  "language_info": {
   "codemirror_mode": {
    "name": "ipython",
    "version": 3
   },
   "file_extension": ".py",
   "mimetype": "text/x-python",
   "name": "python",
   "nbconvert_exporter": "python",
   "pygments_lexer": "ipython3",
   "version": "3.12.11"
  }
 },
 "nbformat": 4,
 "nbformat_minor": 5
}
